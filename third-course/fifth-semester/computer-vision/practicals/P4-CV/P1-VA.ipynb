{
  "cells": [
    {
      "cell_type": "markdown",
      "metadata": {
        "id": "YtxGwtomfHJ7"
      },
      "source": [
        "# Computer Vision - P1\n",
        "\n",
        "### **Carefully read the following instructions before start coding.**"
      ]
    },
    {
      "cell_type": "markdown",
      "metadata": {
        "id": "X1I-L8bTfHKA"
      },
      "source": [
        "==============================================================================================\n",
        "## Delivery\n",
        "\n",
        "Up to **1 point out of 10** will be penalized if the following requirements are not fulfilled:\n",
        "\n",
        "- Implemented code should be commented.\n",
        "\n",
        "- The questions introduced in the exercises must be answered.\n",
        "\n",
        "- Add title to the figures to explain what is displayed.\n",
        "\n",
        "- Comments and answers need to be in **English**.\n",
        "\n",
        "- The deliverable must be a file named **P1_Student1_Student2.zip** that includes:\n",
        "    - The notebook P1_Student1_Student2.ipynb completed with the solutions to the exercises and their corresponding comments.\n",
        "\n",
        "**Deadline (Campus Virtual): September 27, 23:00 h** "
      ]
    },
    {
      "cell_type": "markdown",
      "metadata": {
        "id": "BnhJGfNRfHKD"
      },
      "source": [
        "==============================================================================================\n",
        "\n",
        "## Practicum 1: Basics on Image Processing and Manipulation\n",
        "==============================================================================================\n",
        "\n",
        "The main topics are:\n",
        "\n",
        "1. Image loading, saving and creation\n",
        "\n",
        "2. Color manipulation \n",
        "\n",
        "In order to complete this practicum, we will work with the following concepts: image creation, data types, image manipulation."
      ]
    },
    {
      "cell_type": "markdown",
      "metadata": {
        "id": "TlvEDLgzfHKE"
      },
      "source": [
        "==============================================================================================\n",
        "### Packages loading \n",
        "\n",
        "First we need to import the required Python packages for basic image manipulation. \n",
        "\n",
        "Run the following code:"
      ]
    },
    {
      "cell_type": "code",
      "execution_count": 1,
      "metadata": {
        "id": "tCmHYVLMfHKF"
      },
      "outputs": [],
      "source": [
        "import numpy as np # useful for manipulating matrices\n",
        "from skimage import io # useful for image loading and saving\n",
        "from matplotlib import pyplot as plt # useful for plotting images on iPython or Jupyter Notebooks"
      ]
    },
    {
      "cell_type": "markdown",
      "metadata": {
        "id": "FHNQ8fhRfHKW"
      },
      "source": [
        "Note that commands starting with the percentage sign (`%`) are special internal commands to ipython (as opposed to Python code to be run). In the case below, we set the matplotlib environment to display images results inline (i.e. the images will be shown **inside the \n",
        "notebook**):"
      ]
    },
    {
      "cell_type": "code",
      "execution_count": 2,
      "metadata": {
        "id": "e2Xtw8QGfHKX"
      },
      "outputs": [],
      "source": [
        "%matplotlib inline"
      ]
    },
    {
      "cell_type": "markdown",
      "metadata": {
        "id": "SRID32uKfHKY"
      },
      "source": [
        "==============================================================================================\n",
        "### 1.1 Image creation"
      ]
    },
    {
      "cell_type": "markdown",
      "metadata": {
        "id": "SmYo-SoffHKZ"
      },
      "source": [
        "Remember that [Numpy](https://docs.scipy.org/doc/numpy-1.13.0/reference/) allows us to define images of different kinds treating them as matrices.\n",
        "\n",
        "The most common examples are:\n",
        "\n",
        "* Binary: with values of 0 or 1, interpreted as black or white, respectively.\n",
        "* Grayscale: with possible data types uint8, uint16, double, whose pixel values define their intensity.\n",
        "* RGB Image: color images consisting of 3 matrices (usually called 'channels'), which contain intensity values for each color separately R (red), G (green) and B (blue).\n"
      ]
    },
    {
      "cell_type": "markdown",
      "metadata": {
        "id": "g456u37EfHKa"
      },
      "source": [
        "a) Create and display a grayscale image that has 100 rows and 200 columns where each value should be of type unsigned integer with 8 bits. "
      ]
    },
    {
      "cell_type": "code",
      "execution_count": 3,
      "metadata": {
        "colab": {
          "base_uri": "https://localhost:8080/",
          "height": 235
        },
        "id": "dSQu2E1mfHKb",
        "outputId": "5872cd00-2c7f-4241-d417-9158548e5903"
      },
      "outputs": [
        {
          "output_type": "stream",
          "name": "stdout",
          "text": [
            "uint8\n"
          ]
        },
        {
          "output_type": "display_data",
          "data": {
            "text/plain": [
              "<Figure size 432x288 with 1 Axes>"
            ],
            "image/png": "[encoded data removed]"
          },
          "metadata": {
            "needs_background": "light"
          }
        }
      ],
      "source": [
        "#Your solution\n",
        "image = np.array(np.random.rand(100,200), dtype='uint8')\n",
        "plt.imshow(image, cmap='gray')\n",
        "print(image.dtype)\n"
      ]
    },
    {
      "cell_type": "markdown",
      "metadata": {
        "id": "1akMII6wfHKd"
      },
      "source": [
        "How many different values can each pixel have in this case? "
      ]
    },
    {
      "cell_type": "code",
      "execution_count": 4,
      "metadata": {
        "id": "XR7KicT4fHKd"
      },
      "outputs": [],
      "source": [
        "# Each pixel can only have 2 different values \n"
      ]
    },
    {
      "cell_type": "markdown",
      "metadata": {
        "id": "P649FQTtfHKe"
      },
      "source": [
        "b) Change the color of the pixels of the image in such a way that the right half is black (0) and the left half is white (255).\n",
        "\n",
        "Visualize the image and print the values of its first row."
      ]
    },
    {
      "cell_type": "code",
      "execution_count": 5,
      "metadata": {
        "colab": {
          "base_uri": "https://localhost:8080/",
          "height": 444
        },
        "id": "jqLePR00fHKe",
        "outputId": "d30e5a23-a948-4162-8762-f840e1089704"
      },
      "outputs": [
        {
          "output_type": "stream",
          "name": "stdout",
          "text": [
            "[255 255 255 255 255 255 255 255 255 255 255 255 255 255 255 255 255 255\n",
            " 255 255 255 255 255 255 255 255 255 255 255 255 255 255 255 255 255 255\n",
            " 255 255 255 255 255 255 255 255 255 255 255 255 255 255 255 255 255 255\n",
            " 255 255 255 255 255 255 255 255 255 255 255 255 255 255 255 255 255 255\n",
            " 255 255 255 255 255 255 255 255 255 255 255 255 255 255 255 255 255 255\n",
            " 255 255 255 255 255 255 255 255 255 255   0   0   0   0   0   0   0   0\n",
            "   0   0   0   0   0   0   0   0   0   0   0   0   0   0   0   0   0   0\n",
            "   0   0   0   0   0   0   0   0   0   0   0   0   0   0   0   0   0   0\n",
            "   0   0   0   0   0   0   0   0   0   0   0   0   0   0   0   0   0   0\n",
            "   0   0   0   0   0   0   0   0   0   0   0   0   0   0   0   0   0   0\n",
            "   0   0   0   0   0   0   0   0   0   0   0   0   0   0   0   0   0   0\n",
            "   0   0]\n"
          ]
        },
        {
          "output_type": "execute_result",
          "data": {
            "text/plain": [
              "<matplotlib.image.AxesImage at 0x7f3370756890>"
            ]
          },
          "metadata": {},
          "execution_count": 5
        },
        {
          "output_type": "display_data",
          "data": {
            "text/plain": [
              "<Figure size 432x288 with 1 Axes>"
            ],
            "image/png": "[encoded data removed]"
          },
          "metadata": {
            "needs_background": "light"
          }
        }
      ],
      "source": [
        "image[0:, 0:100]=255 ## All the rows, columns between 100:200 (left half), white (255)\n",
        "image[0:, 100:]=0 ## All the rows, columns between 0:99 (right half), black (0)\n",
        "print(image[0])\n",
        "plt.imshow(image, cmap='gray')"
      ]
    },
    {
      "cell_type": "markdown",
      "metadata": {
        "id": "ED0XRoyxfHKf"
      },
      "source": [
        "### 1.2 Image saving and loading\n",
        "\n",
        "a) Use the IO image package to save the previously image:"
      ]
    },
    {
      "cell_type": "code",
      "execution_count": 6,
      "metadata": {
        "id": "YTmAy67efHKf"
      },
      "outputs": [],
      "source": [
        "# We save the image with the name of half.bmp\n",
        "io.imsave('half_white_half_black.png',image)\n"
      ]
    },
    {
      "cell_type": "markdown",
      "metadata": {
        "id": "eEGUi3BRfHKf"
      },
      "source": [
        "b) Load the saved image and visualize it. Print the dimensions, the value of pixel (20,30) and data type in order to check everything is correct"
      ]
    },
    {
      "cell_type": "code",
      "execution_count": 7,
      "metadata": {
        "colab": {
          "base_uri": "https://localhost:8080/",
          "height": 287
        },
        "id": "3SSLKN6YfHKg",
        "outputId": "c35bef66-916b-43cb-c318-5dcc277917e6"
      },
      "outputs": [
        {
          "output_type": "stream",
          "name": "stdout",
          "text": [
            "(100, 200)\n",
            "255\n",
            "uint8\n"
          ]
        },
        {
          "output_type": "execute_result",
          "data": {
            "text/plain": [
              "<matplotlib.image.AxesImage at 0x7f3370655f50>"
            ]
          },
          "metadata": {},
          "execution_count": 7
        },
        {
          "output_type": "display_data",
          "data": {
            "text/plain": [
              "<Figure size 432x288 with 1 Axes>"
            ],
            "image/png": "[encoded data removed]"
          },
          "metadata": {
            "needs_background": "light"
          }
        }
      ],
      "source": [
        "# We load the image called half.bmp to a local variable half\n",
        "img_read = io.imread('half_white_half_black.png')\n",
        "\n",
        "# We print the dimensions of the image we just loaded from the files\n",
        "print(img_read.shape)\n",
        "\n",
        "# We check the value of the pixel (20,30) and in the output it tells us that it's 255, \n",
        "# which means that it's white\n",
        "print(img_read[20,30])\n",
        "\n",
        "# We print the data type and observe that it's unsignered integer of 8 bits, \n",
        "# the same type as the image we have saved in the file\n",
        "print(img_read.dtype)\n",
        "\n",
        "\n",
        "plt.imshow(img_read, cmap='gray')"
      ]
    },
    {
      "cell_type": "markdown",
      "metadata": {
        "id": "F2Yn0i2AfHKg"
      },
      "source": [
        "### 1.3 Color image manipulation\n",
        "\n",
        "a) Load and show the image `images_notebook/lenna.jpg`, and check its dimensions and data type.\n",
        "\n",
        "**Note:** Pictures may appear in the figure with pseudocolors. What commands to use in order to display them in **RGB** color and in **grayscale**?! "
      ]
    },
    {
      "cell_type": "code",
      "execution_count": 8,
      "metadata": {
        "scrolled": true,
        "colab": {
          "base_uri": "https://localhost:8080/",
          "height": 381
        },
        "id": "WYENqoB7fHKh",
        "outputId": "b6cc2fd9-5897-479e-cf01-325875451fc8"
      },
      "outputs": [
        {
          "output_type": "error",
          "ename": "FileNotFoundError",
          "evalue": "ignored",
          "traceback": [
            "\u001b[0;31m---------------------------------------------------------------------------\u001b[0m",
            "\u001b[0;31mFileNotFoundError\u001b[0m                         Traceback (most recent call last)",
            "\u001b[0;32m<ipython-input-8-5f4e4147c757>\u001b[0m in \u001b[0;36m<module>\u001b[0;34m\u001b[0m\n\u001b[1;32m      2\u001b[0m \u001b[0;34m\u001b[0m\u001b[0m\n\u001b[1;32m      3\u001b[0m \u001b[0;31m# We load the image called lenna.jpg to a local variable lenna and show it with the command print()\u001b[0m\u001b[0;34m\u001b[0m\u001b[0;34m\u001b[0m\u001b[0;34m\u001b[0m\u001b[0m\n\u001b[0;32m----> 4\u001b[0;31m \u001b[0mlenna\u001b[0m \u001b[0;34m=\u001b[0m \u001b[0mio\u001b[0m\u001b[0;34m.\u001b[0m\u001b[0mimread\u001b[0m\u001b[0;34m(\u001b[0m\u001b[0;34m'images_notebook/lenna.jpg'\u001b[0m\u001b[0;34m)\u001b[0m\u001b[0;34m\u001b[0m\u001b[0;34m\u001b[0m\u001b[0m\n\u001b[0m\u001b[1;32m      5\u001b[0m \u001b[0;34m\u001b[0m\u001b[0m\n\u001b[1;32m      6\u001b[0m \u001b[0;31m# We print the dimensions of the image we just loaded from the files\u001b[0m\u001b[0;34m\u001b[0m\u001b[0;34m\u001b[0m\u001b[0;34m\u001b[0m\u001b[0m\n",
            "\u001b[0;32m/usr/local/lib/python3.7/dist-packages/skimage/io/_io.py\u001b[0m in \u001b[0;36mimread\u001b[0;34m(fname, as_gray, plugin, **plugin_args)\u001b[0m\n\u001b[1;32m     46\u001b[0m \u001b[0;34m\u001b[0m\u001b[0m\n\u001b[1;32m     47\u001b[0m     \u001b[0;32mwith\u001b[0m \u001b[0mfile_or_url_context\u001b[0m\u001b[0;34m(\u001b[0m\u001b[0mfname\u001b[0m\u001b[0;34m)\u001b[0m \u001b[0;32mas\u001b[0m \u001b[0mfname\u001b[0m\u001b[0;34m:\u001b[0m\u001b[0;34m\u001b[0m\u001b[0;34m\u001b[0m\u001b[0m\n\u001b[0;32m---> 48\u001b[0;31m         \u001b[0mimg\u001b[0m \u001b[0;34m=\u001b[0m \u001b[0mcall_plugin\u001b[0m\u001b[0;34m(\u001b[0m\u001b[0;34m'imread'\u001b[0m\u001b[0;34m,\u001b[0m \u001b[0mfname\u001b[0m\u001b[0;34m,\u001b[0m \u001b[0mplugin\u001b[0m\u001b[0;34m=\u001b[0m\u001b[0mplugin\u001b[0m\u001b[0;34m,\u001b[0m \u001b[0;34m**\u001b[0m\u001b[0mplugin_args\u001b[0m\u001b[0;34m)\u001b[0m\u001b[0;34m\u001b[0m\u001b[0;34m\u001b[0m\u001b[0m\n\u001b[0m\u001b[1;32m     49\u001b[0m \u001b[0;34m\u001b[0m\u001b[0m\n\u001b[1;32m     50\u001b[0m     \u001b[0;32mif\u001b[0m \u001b[0;32mnot\u001b[0m \u001b[0mhasattr\u001b[0m\u001b[0;34m(\u001b[0m\u001b[0mimg\u001b[0m\u001b[0;34m,\u001b[0m \u001b[0;34m'ndim'\u001b[0m\u001b[0;34m)\u001b[0m\u001b[0;34m:\u001b[0m\u001b[0;34m\u001b[0m\u001b[0;34m\u001b[0m\u001b[0m\n",
            "\u001b[0;32m/usr/local/lib/python3.7/dist-packages/skimage/io/manage_plugins.py\u001b[0m in \u001b[0;36mcall_plugin\u001b[0;34m(kind, *args, **kwargs)\u001b[0m\n\u001b[1;32m    205\u001b[0m                                (plugin, kind))\n\u001b[1;32m    206\u001b[0m \u001b[0;34m\u001b[0m\u001b[0m\n\u001b[0;32m--> 207\u001b[0;31m     \u001b[0;32mreturn\u001b[0m \u001b[0mfunc\u001b[0m\u001b[0;34m(\u001b[0m\u001b[0;34m*\u001b[0m\u001b[0margs\u001b[0m\u001b[0;34m,\u001b[0m \u001b[0;34m**\u001b[0m\u001b[0mkwargs\u001b[0m\u001b[0;34m)\u001b[0m\u001b[0;34m\u001b[0m\u001b[0;34m\u001b[0m\u001b[0m\n\u001b[0m\u001b[1;32m    208\u001b[0m \u001b[0;34m\u001b[0m\u001b[0m\n\u001b[1;32m    209\u001b[0m \u001b[0;34m\u001b[0m\u001b[0m\n",
            "\u001b[0;32m/usr/local/lib/python3.7/dist-packages/skimage/io/_plugins/imageio_plugin.py\u001b[0m in \u001b[0;36mimread\u001b[0;34m(*args, **kwargs)\u001b[0m\n\u001b[1;32m      8\u001b[0m \u001b[0;34m@\u001b[0m\u001b[0mwraps\u001b[0m\u001b[0;34m(\u001b[0m\u001b[0mimageio_imread\u001b[0m\u001b[0;34m)\u001b[0m\u001b[0;34m\u001b[0m\u001b[0;34m\u001b[0m\u001b[0m\n\u001b[1;32m      9\u001b[0m \u001b[0;32mdef\u001b[0m \u001b[0mimread\u001b[0m\u001b[0;34m(\u001b[0m\u001b[0;34m*\u001b[0m\u001b[0margs\u001b[0m\u001b[0;34m,\u001b[0m \u001b[0;34m**\u001b[0m\u001b[0mkwargs\u001b[0m\u001b[0;34m)\u001b[0m\u001b[0;34m:\u001b[0m\u001b[0;34m\u001b[0m\u001b[0;34m\u001b[0m\u001b[0m\n\u001b[0;32m---> 10\u001b[0;31m     \u001b[0;32mreturn\u001b[0m \u001b[0mnp\u001b[0m\u001b[0;34m.\u001b[0m\u001b[0masarray\u001b[0m\u001b[0;34m(\u001b[0m\u001b[0mimageio_imread\u001b[0m\u001b[0;34m(\u001b[0m\u001b[0;34m*\u001b[0m\u001b[0margs\u001b[0m\u001b[0;34m,\u001b[0m \u001b[0;34m**\u001b[0m\u001b[0mkwargs\u001b[0m\u001b[0;34m)\u001b[0m\u001b[0;34m)\u001b[0m\u001b[0;34m\u001b[0m\u001b[0;34m\u001b[0m\u001b[0m\n\u001b[0m",
            "\u001b[0;32m/usr/local/lib/python3.7/dist-packages/imageio/core/functions.py\u001b[0m in \u001b[0;36mimread\u001b[0;34m(uri, format, **kwargs)\u001b[0m\n\u001b[1;32m    263\u001b[0m \u001b[0;34m\u001b[0m\u001b[0m\n\u001b[1;32m    264\u001b[0m     \u001b[0;31m# Get reader and read first\u001b[0m\u001b[0;34m\u001b[0m\u001b[0;34m\u001b[0m\u001b[0;34m\u001b[0m\u001b[0m\n\u001b[0;32m--> 265\u001b[0;31m     \u001b[0mreader\u001b[0m \u001b[0;34m=\u001b[0m \u001b[0mread\u001b[0m\u001b[0;34m(\u001b[0m\u001b[0muri\u001b[0m\u001b[0;34m,\u001b[0m \u001b[0mformat\u001b[0m\u001b[0;34m,\u001b[0m \u001b[0;34m\"i\"\u001b[0m\u001b[0;34m,\u001b[0m \u001b[0;34m**\u001b[0m\u001b[0mkwargs\u001b[0m\u001b[0;34m)\u001b[0m\u001b[0;34m\u001b[0m\u001b[0;34m\u001b[0m\u001b[0m\n\u001b[0m\u001b[1;32m    266\u001b[0m     \u001b[0;32mwith\u001b[0m \u001b[0mreader\u001b[0m\u001b[0;34m:\u001b[0m\u001b[0;34m\u001b[0m\u001b[0;34m\u001b[0m\u001b[0m\n\u001b[1;32m    267\u001b[0m         \u001b[0;32mreturn\u001b[0m \u001b[0mreader\u001b[0m\u001b[0;34m.\u001b[0m\u001b[0mget_data\u001b[0m\u001b[0;34m(\u001b[0m\u001b[0;36m0\u001b[0m\u001b[0;34m)\u001b[0m\u001b[0;34m\u001b[0m\u001b[0;34m\u001b[0m\u001b[0m\n",
            "\u001b[0;32m/usr/local/lib/python3.7/dist-packages/imageio/core/functions.py\u001b[0m in \u001b[0;36mget_reader\u001b[0;34m(uri, format, mode, **kwargs)\u001b[0m\n\u001b[1;32m    170\u001b[0m \u001b[0;34m\u001b[0m\u001b[0m\n\u001b[1;32m    171\u001b[0m     \u001b[0;31m# Create request object\u001b[0m\u001b[0;34m\u001b[0m\u001b[0;34m\u001b[0m\u001b[0;34m\u001b[0m\u001b[0m\n\u001b[0;32m--> 172\u001b[0;31m     \u001b[0mrequest\u001b[0m \u001b[0;34m=\u001b[0m \u001b[0mRequest\u001b[0m\u001b[0;34m(\u001b[0m\u001b[0muri\u001b[0m\u001b[0;34m,\u001b[0m \u001b[0;34m\"r\"\u001b[0m \u001b[0;34m+\u001b[0m \u001b[0mmode\u001b[0m\u001b[0;34m,\u001b[0m \u001b[0;34m**\u001b[0m\u001b[0mkwargs\u001b[0m\u001b[0;34m)\u001b[0m\u001b[0;34m\u001b[0m\u001b[0;34m\u001b[0m\u001b[0m\n\u001b[0m\u001b[1;32m    173\u001b[0m \u001b[0;34m\u001b[0m\u001b[0m\n\u001b[1;32m    174\u001b[0m     \u001b[0;31m# Get format\u001b[0m\u001b[0;34m\u001b[0m\u001b[0;34m\u001b[0m\u001b[0;34m\u001b[0m\u001b[0m\n",
            "\u001b[0;32m/usr/local/lib/python3.7/dist-packages/imageio/core/request.py\u001b[0m in \u001b[0;36m__init__\u001b[0;34m(self, uri, mode, **kwargs)\u001b[0m\n\u001b[1;32m    122\u001b[0m \u001b[0;34m\u001b[0m\u001b[0m\n\u001b[1;32m    123\u001b[0m         \u001b[0;31m# Parse what was given\u001b[0m\u001b[0;34m\u001b[0m\u001b[0;34m\u001b[0m\u001b[0;34m\u001b[0m\u001b[0m\n\u001b[0;32m--> 124\u001b[0;31m         \u001b[0mself\u001b[0m\u001b[0;34m.\u001b[0m\u001b[0m_parse_uri\u001b[0m\u001b[0;34m(\u001b[0m\u001b[0muri\u001b[0m\u001b[0;34m)\u001b[0m\u001b[0;34m\u001b[0m\u001b[0;34m\u001b[0m\u001b[0m\n\u001b[0m\u001b[1;32m    125\u001b[0m \u001b[0;34m\u001b[0m\u001b[0m\n\u001b[1;32m    126\u001b[0m         \u001b[0;31m# Set extension\u001b[0m\u001b[0;34m\u001b[0m\u001b[0;34m\u001b[0m\u001b[0;34m\u001b[0m\u001b[0m\n",
            "\u001b[0;32m/usr/local/lib/python3.7/dist-packages/imageio/core/request.py\u001b[0m in \u001b[0;36m_parse_uri\u001b[0;34m(self, uri)\u001b[0m\n\u001b[1;32m    258\u001b[0m                 \u001b[0;31m# Reading: check that the file exists (but is allowed a dir)\u001b[0m\u001b[0;34m\u001b[0m\u001b[0;34m\u001b[0m\u001b[0;34m\u001b[0m\u001b[0m\n\u001b[1;32m    259\u001b[0m                 \u001b[0;32mif\u001b[0m \u001b[0;32mnot\u001b[0m \u001b[0mos\u001b[0m\u001b[0;34m.\u001b[0m\u001b[0mpath\u001b[0m\u001b[0;34m.\u001b[0m\u001b[0mexists\u001b[0m\u001b[0;34m(\u001b[0m\u001b[0mfn\u001b[0m\u001b[0;34m)\u001b[0m\u001b[0;34m:\u001b[0m\u001b[0;34m\u001b[0m\u001b[0;34m\u001b[0m\u001b[0m\n\u001b[0;32m--> 260\u001b[0;31m                     \u001b[0;32mraise\u001b[0m \u001b[0mFileNotFoundError\u001b[0m\u001b[0;34m(\u001b[0m\u001b[0;34m\"No such file: '%s'\"\u001b[0m \u001b[0;34m%\u001b[0m \u001b[0mfn\u001b[0m\u001b[0;34m)\u001b[0m\u001b[0;34m\u001b[0m\u001b[0;34m\u001b[0m\u001b[0m\n\u001b[0m\u001b[1;32m    261\u001b[0m             \u001b[0;32melse\u001b[0m\u001b[0;34m:\u001b[0m\u001b[0;34m\u001b[0m\u001b[0;34m\u001b[0m\u001b[0m\n\u001b[1;32m    262\u001b[0m                 \u001b[0;31m# Writing: check that the directory to write to does exist\u001b[0m\u001b[0;34m\u001b[0m\u001b[0;34m\u001b[0m\u001b[0;34m\u001b[0m\u001b[0m\n",
            "\u001b[0;31mFileNotFoundError\u001b[0m: No such file: '/content/images_notebook/lenna.jpg'"
          ]
        }
      ],
      "source": [
        "from skimage.color import rgb2gray\n",
        "\n",
        "# We load the image called lenna.jpg to a local variable lenna and show it with the command print()\n",
        "lenna = io.imread('images_notebook/lenna.jpg')\n",
        "\n",
        "# We print the dimensions of the image we just loaded from the files\n",
        "print(lenna.shape)\n",
        "\n",
        "# We print the data type and observe that it's unsignered integer of 8 bits\n",
        "print(lenna.dtype)\n",
        "\n",
        "# To display the image in RGB color and in grayscale we need to use the command plt.imshow()\n",
        "\n",
        "# First we display without axis the image in RGB\n",
        "plt.axis('off')\n",
        "plt.imshow(lenna)\n",
        "plt.show()\n",
        "\n",
        "# Thanks to the command rgb2gray() we transform the RGB image into a gray image\n",
        "lenna_gray = rgb2gray(lenna)\n",
        "\n",
        "# We display it now in grayscale without axis\n",
        "plt.imshow(lenna_gray, cmap='gray')\n",
        "plt.axis('off')\n",
        "plt.show()\n"
      ]
    },
    {
      "cell_type": "markdown",
      "metadata": {
        "collapsed": true,
        "id": "Sr14hRO9fHKi"
      },
      "source": [
        "b) Convert the previous image to grayscale, and **save it**.\n",
        "\n",
        "Moreover, plot the two images (RGB & greyscale) in a single figure, and show details such as shape, dtype, max and min values."
      ]
    },
    {
      "cell_type": "code",
      "execution_count": null,
      "metadata": {
        "id": "DQLaqvtQfHKi"
      },
      "outputs": [],
      "source": [
        "# We show two images in a single figure with the details of both\n",
        "fig, axs = plt.subplots(ncols=2,figsize=(15,15))\n",
        "ax = axs[0]\n",
        "ax.imshow(lenna)\n",
        "ax.axis('off')\n",
        "ax.set_title('RGB Lenna')\n",
        "print(\"RGB Lenna: \",lenna.shape,lenna.dtype, lenna.max(),lenna.min())\n",
        "\n",
        "ax = axs[1]\n",
        "ax.imshow(lenna_gray, cmap='gray')\n",
        "ax.axis('off')\n",
        "ax.set_title('gray Lenna')\n",
        "print(\"Gray Lenna: \",lenna_gray.shape,lenna_gray.dtype, lenna_gray.max(),lenna_gray.min())"
      ]
    },
    {
      "cell_type": "markdown",
      "metadata": {
        "id": "4nUn53qxfHKj"
      },
      "source": [
        "c) Compute the mean of the previous grayscale image and use a logical operation to obtain a boolean image. Pixels greather than the mean value must be shown as white. Display the binary image."
      ]
    },
    {
      "cell_type": "code",
      "execution_count": null,
      "metadata": {
        "id": "On4CY-bLfHKk"
      },
      "outputs": [],
      "source": [
        "# We apply a mask to the image. The mask take only the pixels that are more bright than the mean of all the pixels of the image\n",
        "lenna_mean = (lenna_gray > lenna_gray.mean())\n",
        "print(lenna_mean)\n",
        "plt.imshow(lenna_mean, cmap='gray')\n",
        "plt.axis('off')\n"
      ]
    },
    {
      "cell_type": "markdown",
      "metadata": {
        "id": "qWBQmfk9fHKk"
      },
      "source": [
        "d) Visualize in the same figure all the three images: (1) the original image, (2) the gray image, and (3) the binarized image. Set the corresponding titles of the images."
      ]
    },
    {
      "cell_type": "code",
      "execution_count": null,
      "metadata": {
        "id": "CynoqwfgfHKl"
      },
      "outputs": [],
      "source": [
        "fig, axs = plt.subplots(nrows=2, ncols=2,figsize=(15,15))\n",
        "\n",
        "ax = axs[0, 0]\n",
        "ax.imshow(lenna)\n",
        "ax.axis('off')\n",
        "ax.set_title('RGB Lenna')\n",
        "\n",
        "ax = axs[0,1]\n",
        "ax.imshow(lenna_gray, cmap='gray')\n",
        "ax.axis('off')\n",
        "ax.set_title('Gray Lenna')\n",
        "\n",
        "ax = axs[1,0]\n",
        "ax.imshow(lenna_mean, cmap='gray')\n",
        "ax.axis('off')\n",
        "ax.set_title('Binary Lenna')\n",
        "\n",
        "ax = axs[1,1]\n",
        "ax.axis('off')"
      ]
    },
    {
      "cell_type": "markdown",
      "metadata": {
        "id": "xK56AXrcfHKl"
      },
      "source": [
        "### 1.4 Images manipulation\n",
        "\n",
        "a) Create an RGB black image, 10% larger than the Lenna image. Afterwards, embed the Lenna image in the center. Show the framed image.\n",
        "\n",
        "**Note:** Be carefull with the number of channels.\n",
        "\n",
        "**Note:** Print the original image shape and the new image size to check if the sizes of the second one are 10% larger then the first one. \n"
      ]
    },
    {
      "cell_type": "code",
      "execution_count": null,
      "metadata": {
        "id": "JM5Bzq6vfHKm"
      },
      "outputs": [],
      "source": [
        "black_image=np.zeros((int(lenna.shape[0]*1.1),int(lenna.shape[1]*1.1),3), # 3 channels black image 10% larger (RGB)\n",
        "            dtype=np.uint8)\n",
        "print(lenna.shape, black_image.shape)\n",
        "# Center de lenna image into the black image\n",
        "black_image[int((lenna.shape[0]*0.1)/2):lenna.shape[0]+int((lenna.shape[0]*0.1)/2), int((lenna.shape[1]*0.1)/2):lenna.shape[1]+int((lenna.shape[1]*0.1)/2), :] = lenna\n",
        "plt.imshow(black_image)\n",
        "plt.axis('off')\n"
      ]
    },
    {
      "cell_type": "markdown",
      "metadata": {
        "collapsed": true,
        "id": "4qFzgKE9fHKm"
      },
      "source": [
        "b) Change the frame of the new image to green. Visualize the three images: original, black frame and green frame, in one single figure, with their respective titles."
      ]
    },
    {
      "cell_type": "code",
      "execution_count": null,
      "metadata": {
        "id": "93tsPrapfHKn"
      },
      "outputs": [],
      "source": [
        "green_image = np.copy(black_image)\n",
        "green_image[0:,0:,1] = 255 # We set all values of green channel to 255 \n",
        "\n",
        "# We show 3 images in a single figure \n",
        "fig, axs = plt.subplots(ncols=3,figsize=(15,15))\n",
        "ax = axs[0]\n",
        "ax.imshow(lenna)\n",
        "ax.axis('off')\n",
        "ax.set_title('Original Lenna')\n",
        "\n",
        "ax = axs[1]\n",
        "ax.imshow(black_image)\n",
        "ax.axis('off')\n",
        "ax.set_title('Black Lenna')\n",
        "\n",
        "ax = axs[2]\n",
        "ax.imshow(green_image)\n",
        "ax.axis('off')\n",
        "ax.set_title('Green Lenna')\n",
        "\n"
      ]
    },
    {
      "cell_type": "markdown",
      "metadata": {
        "id": "N_Kp6B1cfHKn"
      },
      "source": [
        "### 1.5 Contrast enhancement\n",
        "\n",
        "a) Open the image `images_notebook/car_lowContrast.jpg` and visualize it without graylevel enhancement. Print the image size, data type, minimum and maximum of the image. \n",
        "\n",
        "**Note:** When running the function `imshow()` the image is authomatically enhanced. Use the `vmin` and `vmax` parameters in order to deactivate the enhancement applied by default. To this purpose, check the data type and used the maximum and minimum value corresponding to this type.\n"
      ]
    },
    {
      "cell_type": "code",
      "execution_count": null,
      "metadata": {
        "id": "EnoLDRqhfHKo"
      },
      "outputs": [],
      "source": [
        "# We load the image called car_lowContrast.jpg to a local variable car_lowContrast\n",
        "car_lowContrast = io.imread('images_notebook/car_lowContrast.jpg')\n",
        "\n",
        "# We visualize it without graylevel enhancement\n",
        "plt.imshow(car_lowContrast, vmin=car_lowContrast.min(), vmax=car_lowContrast.max(), cmap='gray')\n",
        "plt.axis('off')\n",
        "plt.show()\n",
        "\n",
        "# We print the dimensions of the size, data type, minimum and maximum of the image\n",
        "print('Shape: ',car_lowContrast.shape)\n",
        "print('Data type: ',car_lowContrast.dtype)\n",
        "print('Min: ',car_lowContrast.min())\n",
        "print('Max: ',car_lowContrast.max())\n",
        "\n"
      ]
    },
    {
      "cell_type": "markdown",
      "metadata": {
        "collapsed": true,
        "id": "MJsIVPpVfHKp"
      },
      "source": [
        "b) Create an image called `dark_image` using the  values from the original one. Compute the minimum value of the image and substract this value of the original image. Print the new maximum a minimum values. Show the new image without graylevel enhancement."
      ]
    },
    {
      "cell_type": "code",
      "execution_count": null,
      "metadata": {
        "id": "N7YVpj7NfHKp"
      },
      "outputs": [],
      "source": [
        "# We compute the minimum value of the image and substract this value of the original image\n",
        "dark_image = car_lowContrast - car_lowContrast.min()\n",
        "\n",
        "# We visualize it without graylevel enhancement\n",
        "plt.imshow(dark_image, vmin=0, vmax=255, cmap='gray')\n",
        "plt.axis('off')\n",
        "plt.show()\n",
        "\n",
        "# We print the minimum and maximum values of the new image\n",
        "print('Min of the dark image: ',dark_image.min())\n",
        "print('Max of the dark image: ',dark_image.max())"
      ]
    },
    {
      "cell_type": "markdown",
      "metadata": {
        "id": "NCI80LpLfHKq"
      },
      "source": [
        "c) Similarly to the previous question, create a new image called `bright_im` from the original one, so that the maximal value of the new image is 255. Check the minimal and maximal values of the new image, and show the new image without graylevel enhancement.\n"
      ]
    },
    {
      "cell_type": "code",
      "execution_count": null,
      "metadata": {
        "id": "9DwvfRLofHKr"
      },
      "outputs": [],
      "source": [
        "# We compute the minimum value of the image and we add this value to the the original image\n",
        "bright_im = car_lowContrast + car_lowContrast.min()\n",
        "\n",
        "# We visualize it without graylevel enhancement\n",
        "plt.imshow(car_lowContrast, vmin=0, vmax=255, cmap='gray')\n",
        "plt.axis('off')\n",
        "plt.show()\n",
        "\n",
        "# We print the minimum and maximum values of the new image\n",
        "print('Min of the bright image: ',bright_im.min())\n",
        "print('Max of the bright image: ',bright_im.max())\n"
      ]
    },
    {
      "cell_type": "markdown",
      "metadata": {
        "id": "wYHSK5c7fHKr"
      },
      "source": [
        "d) Apply contrast enhancement to the original image. There are two ways for it: (1) by direct manipulation, and (2) through scikit-image command [rescale_intensity](https://scikit-image.org/docs/stable/api/skimage.exposure.html#skimage.exposure.rescale_intensity). Check the minimal and maximal values of the enhanced image, and compare them with the previous one. Show the two images  without graylevel enhancement."
      ]
    },
    {
      "cell_type": "code",
      "execution_count": null,
      "metadata": {
        "id": "9JC_l62SfHKs"
      },
      "outputs": [],
      "source": [
        "# We visualize it with graylevel enhancement\n",
        "import skimage.exposure as skie\n",
        "enhanced_image = skie.rescale_intensity(car_lowContrast)\n",
        "\n",
        "# We show the original image and the enhanced image\n",
        "\n",
        "plt.imshow(car_lowContrast, vmin=0, vmax=255, cmap='gray')\n",
        "plt.axis('off')\n",
        "plt.show()\n",
        "\n",
        "plt.imshow(enhanced_image, vmin=0, vmax=255, cmap='gray')\n",
        "plt.axis('off')\n",
        "plt.show()\n",
        "\n",
        "# As we can see, the maximun and minimum values of the new image are 255 and 0\n",
        "# The reescaling command has stretched each pixel so that they are not concentrated \n",
        "# in a single strip (in this case from 63 to 193)\n",
        "\n",
        "print('Max of original image: ',car_lowContrast.max())\n",
        "print('Min of original image: ',car_lowContrast.min())\n",
        "\n",
        "print('Max of enhanced image: ',enhanced_image.max())\n",
        "print('Min of enhanced image: ',enhanced_image.min())\n",
        "\n"
      ]
    },
    {
      "cell_type": "markdown",
      "metadata": {
        "id": "o2Au27q_fHKt"
      },
      "source": [
        "e) Visualize the 5 images in the same figure, each one with its corresponding title."
      ]
    },
    {
      "cell_type": "code",
      "execution_count": null,
      "metadata": {
        "id": "64S6Z_dzfHKt"
      },
      "outputs": [],
      "source": [
        "fig, axs = plt.subplots(nrows=2, ncols=2,figsize=(15,7.5))\n",
        "\n",
        "ax = axs[0, 0]\n",
        "ax.imshow(car_lowContrast, vmin=0, vmax=255, cmap='gray')\n",
        "ax.axis('off')\n",
        "ax.set_title('Original image')\n",
        "\n",
        "ax = axs[0,1]\n",
        "ax.imshow(dark_image, vmin=0, vmax=255, cmap='gray')\n",
        "ax.axis('off')\n",
        "ax.set_title('Dark image')\n",
        "\n",
        "ax = axs[1,0]\n",
        "ax.imshow(bright_im, vmin=0, vmax=255, cmap='gray')\n",
        "ax.axis('off')\n",
        "ax.set_title('Bright image')\n",
        "\n",
        "ax = axs[1,1]\n",
        "ax.imshow(enhanced_image, vmin=0, vmax=255, cmap='gray')\n",
        "ax.axis('off')\n",
        "ax.set_title('Reescaled image')"
      ]
    },
    {
      "cell_type": "markdown",
      "metadata": {
        "id": "Oozym8YOfHKu"
      },
      "source": [
        "### 1.7 Color manipulation\n",
        "\n",
        "a) Read and visualize the image `images_notebook/sillas.jpg` (see figure top). Extract its three channels and visualize them in the same figure with their respective titles (see the figure bottom).\n",
        "<img src=\"images_notebook/ex17c.png\">\n",
        "\n",
        "<img src=\"images_notebook/ex17c2.png\">"
      ]
    },
    {
      "cell_type": "code",
      "execution_count": null,
      "metadata": {
        "id": "DRD6EDlLfHKu"
      },
      "outputs": [],
      "source": [
        "# We load the image called sillas.jpg to a local variable sillas\n",
        "sillas = io.imread('images_notebook/sillas.jpg')\n",
        "R_channel= sillas[:,:,0]\n",
        "G_channel= sillas[:,:,1]\n",
        "B_channel= sillas[:,:,2]\n",
        "\n",
        "fig, axs = plt.subplots(ncols=3,nrows=2,figsize=(15,7.5))\n",
        "ax = axs[0][1]\n",
        "ax.imshow(sillas, vmin=0, vmax=255, cmap='gray')\n",
        "ax.axis('off')\n",
        "ax.set_title('Original Image')\n",
        "\n",
        "\n",
        "axs[0][0].remove()\n",
        "axs[0][2].remove()\n",
        "\n",
        "ax = axs[1][0]\n",
        "ax.imshow(R_channel, vmin=0, vmax=255, cmap='gray')\n",
        "ax.axis('off')\n",
        "ax.set_title('Red Channel')\n",
        "\n",
        "ax = axs[1][1]\n",
        "ax.imshow(G_channel, vmin=0, vmax=255, cmap='gray')\n",
        "ax.axis('off')\n",
        "ax.set_title('Green Channel')\n",
        "\n",
        "ax = axs[1][2]\n",
        "ax.imshow(B_channel, vmin=0, vmax=255, cmap='gray')\n",
        "ax.axis('off')\n",
        "ax.set_title('Blue Channel')\n"
      ]
    },
    {
      "cell_type": "markdown",
      "metadata": {
        "id": "vyKHFUu9fHKu"
      },
      "source": [
        "b) Construct and visualize a new image, changing the red and green channels each other (see figure).\n",
        "<img src=\"images_notebook/sillas2.png\">"
      ]
    },
    {
      "cell_type": "code",
      "execution_count": null,
      "metadata": {
        "id": "2R7p4IawfHKv"
      },
      "outputs": [],
      "source": [
        "new_sillas = np.copy(sillas)\n",
        "new_sillas[:,:,0] = sillas[:,:,1] # Red channel is changed with the values of Green channel\n",
        "new_sillas[:,:,1] = sillas[:,:,0] # Green channel is changed with the values of Red channel\n",
        "\n",
        "plt.imshow(new_sillas)\n",
        "plt.axis('off')"
      ]
    },
    {
      "cell_type": "markdown",
      "metadata": {
        "id": "ctDf4mjpfHKv"
      },
      "source": [
        "### 1.6 Masks and logical image manipulation\n",
        "\n",
        "a) Read the image `images_notebook/circles.bmp` (see figure top) and define 3 images in such a way that each one contains only 1 ball (see figure bottom). Visualize the 3 images in the same figure, each one with its corresponding title.\n",
        "\n",
        "<img src=\"images_notebook/ex16.png\">\n",
        "\n",
        "**Note:** Be careful when applying `imshow` since it automatically increases the contrast of the image (putting minimum values to 0 and maximal to 1).\n",
        "\n",
        "**Note:** Be careful when applying type conversion. Check the ranges of the image values."
      ]
    },
    {
      "cell_type": "code",
      "execution_count": null,
      "metadata": {
        "id": "wkqmVA4nfHKv"
      },
      "outputs": [],
      "source": [
        "from skimage import img_as_float\n",
        "circles = io.imread('images_notebook/circles.bmp')\n",
        "\n",
        "left_circle = np.copy(circles)\n",
        "#we want to see only the left circle so we change all the values > 0 to 255 because we want to keep only the darker one\n",
        "left_circle[np.all(left_circle > (0, 0, 0), axis=-1)] = (255, 255, 255) \n",
        "\n",
        "mid_circle = np.copy(circles)\n",
        "\n",
        "# We only keep the middle circle. We know that 127 value correspond to middle circle because we printed it before\n",
        "mid_circle[np.all(mid_circle != (127, 127, 127), axis=-1)] = (255, 255, 255)\n",
        "\n",
        "right_circle = np.copy(circles)\n",
        "\n",
        "# Same procedure as before to show the right circle\n",
        "right_circle[np.all(right_circle < (195, 195, 195), axis=-1)] = (255, 255, 255)\n",
        "\n",
        "plt.imshow(circles)\n",
        "\n",
        "fig, axs = plt.subplots(ncols=3,figsize=(15,15))\n",
        "ax = axs[0]\n",
        "ax.imshow(img_as_float(left_circle))\n",
        "ax.set_title('Left Circle')\n",
        "\n",
        "ax = axs[1]\n",
        "ax.imshow(img_as_float(mid_circle))\n",
        "ax.set_title('Mid Circle')\n",
        "\n",
        "ax = axs[2]\n",
        "ax.imshow(img_as_float(right_circle))\n",
        "ax.set_title('Right Circle')\n"
      ]
    },
    {
      "cell_type": "markdown",
      "metadata": {
        "id": "uXiY1LmmfHKw"
      },
      "source": [
        "b) Given the images `images_notebook/coat.png` and `images_notebook/model.png` (first two images on the figure below), implement the necessary code to construct the image of the model with the coat (third image). Next find in internet an image with a texture and apply it to obtain an image of the jacket with the found texture (fourth image is only an example).\n",
        "\n",
        "<img src=\"images_notebook/ex17d.png\">\n",
        "\n",
        "**Note:** when applying [resize, rotate, etc...](https://scikit-image.org/docs/stable/auto_examples/transform/plot_rescale.html) keep track how the image type and values range change. When necessary, apply type conversion using [img_as_float, img_as_uint, img_as_ubyte.](https://scikit-image.org/docs/stable/api/skimage.html)\n",
        "\n",
        "**Note: DO NOT USE LOOPS to overlap the images!! It will be penalized.**\n"
      ]
    },
    {
      "cell_type": "code",
      "execution_count": 13,
      "metadata": {
        "colab": {
          "base_uri": "https://localhost:8080/",
          "height": 1000
        },
        "id": "idCbIp6_fHKw",
        "outputId": "4f73b6aa-73ae-4f60-e3d3-7ea6fad1c6d8"
      },
      "outputs": [
        {
          "output_type": "stream",
          "name": "stdout",
          "text": [
            "[[[  0   0   0 255]\n",
            "  [  0   0   0 255]\n",
            "  [  0   0   0 255]\n",
            "  ...\n",
            "  [  0   0   0 255]\n",
            "  [  0   0   0 255]\n",
            "  [  0   0   0 255]]\n",
            "\n",
            " [[  0   0   0 255]\n",
            "  [  0   0   0 255]\n",
            "  [  0   0   0 255]\n",
            "  ...\n",
            "  [  0   0   0 255]\n",
            "  [  0   0   0 255]\n",
            "  [  0   0   0 255]]\n",
            "\n",
            " [[  0   0   0 255]\n",
            "  [  0   0   0 255]\n",
            "  [  0   0   0 255]\n",
            "  ...\n",
            "  [  0   0   0 255]\n",
            "  [  0   0   0 255]\n",
            "  [  0   0   0 255]]\n",
            "\n",
            " ...\n",
            "\n",
            " [[  0   0   0 255]\n",
            "  [  0   0   0 255]\n",
            "  [  0   0   0 255]\n",
            "  ...\n",
            "  [  0   0   0 255]\n",
            "  [  0   0   0 255]\n",
            "  [  0   0   0 255]]\n",
            "\n",
            " [[  0   0   0 255]\n",
            "  [  0   0   0 255]\n",
            "  [  0   0   0 255]\n",
            "  ...\n",
            "  [  0   0   0 255]\n",
            "  [  0   0   0 255]\n",
            "  [  0   0   0 255]]\n",
            "\n",
            " [[  0   0   0 255]\n",
            "  [  0   0   0 255]\n",
            "  [  0   0   0 255]\n",
            "  ...\n",
            "  [  0   0   0 255]\n",
            "  [  0   0   0 255]\n",
            "  [  0   0   0 255]]] [[[226 226 226 255]\n",
            "  [226 226 226 255]\n",
            "  [226 226 226 255]\n",
            "  ...\n",
            "  [225 225 225 255]\n",
            "  [225 225 225 255]\n",
            "  [225 225 225 255]]\n",
            "\n",
            " [[226 226 226 255]\n",
            "  [226 226 226 255]\n",
            "  [226 226 226 255]\n",
            "  ...\n",
            "  [225 225 225 255]\n",
            "  [225 225 225 255]\n",
            "  [225 225 225 255]]\n",
            "\n",
            " [[226 226 226 255]\n",
            "  [226 226 226 255]\n",
            "  [226 226 226 255]\n",
            "  ...\n",
            "  [225 225 225 255]\n",
            "  [225 225 225 255]\n",
            "  [225 225 225 255]]\n",
            "\n",
            " ...\n",
            "\n",
            " [[243 243 243 255]\n",
            "  [243 243 243 255]\n",
            "  [243 243 243 255]\n",
            "  ...\n",
            "  [243 243 243 255]\n",
            "  [243 243 243 255]\n",
            "  [243 243 243 255]]\n",
            "\n",
            " [[243 243 243 255]\n",
            "  [243 243 243 255]\n",
            "  [243 243 243 255]\n",
            "  ...\n",
            "  [243 243 243 255]\n",
            "  [243 243 243 255]\n",
            "  [243 243 243 255]]\n",
            "\n",
            " [[243 243 243 255]\n",
            "  [243 243 243 255]\n",
            "  [243 243 243 255]\n",
            "  ...\n",
            "  [243 243 243 255]\n",
            "  [243 243 243 255]\n",
            "  [243 243 243 255]]]\n"
          ]
        },
        {
          "output_type": "execute_result",
          "data": {
            "text/plain": [
              "<matplotlib.image.AxesImage at 0x7f336f9af290>"
            ]
          },
          "metadata": {},
          "execution_count": 13
        },
        {
          "output_type": "display_data",
          "data": {
            "text/plain": [
              "<Figure size 432x288 with 1 Axes>"
            ],
            "image/png": "[encoded data removed]"
          },
          "metadata": {
            "needs_background": "light"
          }
        }
      ],
      "source": [
        "model = io.imread('images_notebook/model.png')\n",
        "texture = io.imread('images_notebook/texture.png')\n",
        "coat = io.imread('images_notebook/coat.png')\n",
        "\n",
        "texture = np.resize(texture, (1188, 915, 4))\n",
        "# We make a mask where pixels of coat image are different of 0\n",
        "mask=coat>0\n",
        "# We apply the mask to the texture and mix it with the model.\n",
        "texture*=mask\n",
        "\n",
        "dressed = texture+model\n",
        "\n",
        "\n",
        "plt.imshow(dressed)\n",
        "\n"
      ]
    },
    {
      "cell_type": "code",
      "execution_count": null,
      "metadata": {
        "id": "c8uwgXS_fHKx"
      },
      "outputs": [],
      "source": []
    }
  ],
  "metadata": {
    "kernelspec": {
      "display_name": "Python 3",
      "language": "python",
      "name": "python3"
    },
    "language_info": {
      "codemirror_mode": {
        "name": "ipython",
        "version": 3
      },
      "file_extension": ".py",
      "mimetype": "text/x-python",
      "name": "python",
      "nbconvert_exporter": "python",
      "pygments_lexer": "ipython3",
      "version": "3.8.3"
    },
    "colab": {
      "provenance": []
    }
  },
  "nbformat": 4,
  "nbformat_minor": 0
}