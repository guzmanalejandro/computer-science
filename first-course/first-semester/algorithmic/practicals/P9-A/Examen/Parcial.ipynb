{
  "nbformat": 4,
  "nbformat_minor": 0,
  "metadata": {
    "colab": {
      "name": "exALGO_Noah_Marquez.ipynb",
      "provenance": [],
      "collapsed_sections": []
    },
    "kernelspec": {
      "name": "python3",
      "display_name": "Python 3"
    },
    "language_info": {
      "name": "python",
      "version": "3.7.3",
      "mimetype": "text/x-python",
      "codemirror_mode": {
        "name": "ipython",
        "version": 3
      },
      "pygments_lexer": "ipython3",
      "nbconvert_exporter": "python",
      "file_extension": ".py"
    },
    "nteract": {
      "version": "0.26.0"
    }
  },
  "cells": [
    {
      "cell_type": "markdown",
      "metadata": {
        "id": "YYd-RInUv6P2"
      },
      "source": [
        "# Instruccions\n",
        "\n",
        "Contesta l'examen sense fer servir cap cel·la de codi, com si féssis l'examen en paper i llapis, als llocs indicats."
      ]
    },
    {
      "cell_type": "markdown",
      "metadata": {
        "id": "qobTXs9tvoPs"
      },
      "source": [
        "## Exercici 1\n",
        "A) Explica perquè si $n$ **no** és un nombre primer, com a màxim existeix un nombre primer $p$ que és factor de $n$ tal que $p > sqrt(n)$. \n",
        "\n",
        "B) Escriu un exemple concret (un $n$ i un $p$) tals que $p > sqrt(n)$.\n",
        "\n",
        "C) Escriu un exemple concret (un $n$) tals que no té cap factor $p > sqrt(n)$.\n",
        "\n",
        "### Respostes:\n",
        "\n",
        "A): Si existissin dos primers més grans, el seu producte seria més gran que n. Suposem que n és un nombre enter positiu tal que n = pq, on p i q són primers. Si suposem p > sqrt(n) i q > sqrt(n) i  multipliquem aquestes dues expressions resulta: p*q > sqrt(n)*sqrt(n), el que implica que p*q > n, que és una contradicció. Per tant, p <= sqrt(n} o q <= sqrt(n). Per això si n no és un nombre primer, com a màxim existeix un nombre primer p que és factor de n tal que p > sqrt(n).\n",
        "\n",
        "B): Per exemple n = 10. Els factors de 10 són 10, 5, 2, 1 per tant si agafem p = 5 (el factor primer), p > sqrt(10).\n",
        "\n",
        "C): Si agafem n = 25, es descomposa en 5*5, per tant no té cap factor primer més gran que l'arrel de 25, que és 5 i per tant són iguals.\n",
        "\n",
        "\n",
        "\n",
        "\n"
      ]
    },
    {
      "cell_type": "markdown",
      "metadata": {
        "id": "D4lByEfcw0aW"
      },
      "source": [
        "## Exercici 2\n",
        "\n",
        "A) Quina és la complexitat d'aquest codi si `c` és una cadena de $n$ caràcters? Raona la teva resposta.\n",
        "\n",
        "```python\n",
        "a = set()\n",
        "for i in range(len(c)):\n",
        "    for j in range(i, len(c)):\n",
        "        a.add(c[i : j+1]) # recordeu que això és O(1)\n",
        "```\n",
        "\n",
        "B) Si tenim `c = \"aaaa\"`, perquè quan executem aquest codi tenim que `a` té només 4 elements i si ho fem per `c = \"abc\"` en té 6?\n",
        "\n",
        "### Resposta:\n",
        "\n",
        "A) El set te cost O(1), el primer for té cost O(n) perquè hem de recorrer tota la cadena de 'n' caràcters per a trobar la seva longitud, el segon for té altre cop cost O(n) perquè hem de tornar a recorrer tota la cadena per a trobar la seva longitud i per últim, afegir a un set té cost O(1). Per tant la complexitat d'aquest codi és: 1 + n * n + 1 = **O(n^2)**.\n",
        "\n",
        "\n",
        "B) Aquest codi ens retorna les subcadenes de 'c' i les subcadenes són seqüències de caràcters consecutius que formen part de la cadena original. Però estem fent ús d'un set, i el set és un conjunt amb elements no repetits. Per tant, quan la c = \"aaaa\" el set només té 4 elements perquè amb la primera volta del for ja hem introduït els 4 valors, de forma que els restants no s'afegeixen al estar repetits (en el cas de ser una llista en tindria 10). En canvi, quan la c = \"abc\" no es repeteix cap de les subcadenes generades, per tant la seva longitud és la de totes les subcadenes possibles de c, en aquest cas = 6."
      ]
    },
    {
      "cell_type": "markdown",
      "metadata": {
        "id": "MPmPvg13xUbq"
      },
      "source": [
        "## Exercici 3\n",
        "\n",
        "Suposem que tenim un algorisme anomenat `primer(p)` que ens diu si un nombre `p` és primer o no. Imaginem que l'usem en aquest algorisme:\n",
        "\n",
        "```python\n",
        "def genera(n):\n",
        "  trobat = False\n",
        "  while not trobat:\n",
        "    p = randint(2**(n-1),2**n) # generar un nombre enter aleatori entre \n",
        "                               # 2**(n-1) i 2**n\n",
        "    if primer(p):\n",
        "      return p\n",
        "```\n",
        "\n",
        "A) Quantes vegades s'executarà aproximadament la iteracio `while` si `n =1000`? (Dóna un nombre com a resposta. Per exemple: \"S'executarà aproximadament **10.000.000** de vegades). \n",
        "\n",
        "B) Quants bits necessitem per escriure el nombre $p$ a memòria?\n",
        "\n",
        "C) Si l'algorisme `primer` està implementat amb els algorismes que hem vist a classe, quina complexitat (en notació gran $O$) té quan `p` és un nombre de 4000 bits? Raona el perquè.\n",
        "\n",
        "\n",
        "### Resposta:\n",
        "\n",
        "A) Pel cas n = 1000, generarem al voltant de 1000 nombres aleatoris per trobar un primer.\n",
        "\n",
        "B) 1024 bits.\n",
        "\n",
        "C) Amb els algorismes vists a classe quan p és un nombre de 4000 bits tindria una complexitat de O(n^3) perquè es basen en mètodes eficients tot i ser un nombre gran.\n",
        "\n"
      ]
    },
    {
      "cell_type": "markdown",
      "metadata": {
        "id": "Dvxsh4gfx2Rs"
      },
      "source": [
        "## Exercici 4\n",
        "\n",
        "Respon les següents preguntes:\n",
        "\n",
        "A) Quina complexitat té l'operació `x*(z**2)%N` si totes les variablpes tenen `n` bits? \n",
        "\n",
        "B) Què són els nombres de Carmichael?\n",
        "\n",
        "C) Quina complexitat té l'algorisme que hem vist de factorització d'un nombre en els seus factors primers, si el nombre té `m` bits?\n",
        "\n",
        "\n",
        "### Resposta:\n",
        "\n",
        "A) L'operació `x*(z**2)%N` té una complexitat O(n^2), ja que és una multiplicació mòdul N d'ordre n^2. Si ens fixem 'z**2' no és una potència de 2, si no que és 'z * z'\n",
        "\n",
        "B) Els nombres de Carmichael són uns nombres compostos, que compleixen el teorema de Fermat (però no són primers). Tot i així, els nombres de Carmichael son escasos i és molt poc probable que trobem un aleatoriament.\n",
        "\n",
        "C) La complexitat de factoritzar un nombre en els seus factors és de tipus exponencial i depen de la mida d'aquest. Però per a un nombre que té 'm' bits és impossible, perquè hi ha molts factors per provar."
      ]
    }
  ]
}