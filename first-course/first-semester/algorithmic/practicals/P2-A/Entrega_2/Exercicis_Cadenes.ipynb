{
  "nbformat": 4,
  "nbformat_minor": 0,
  "metadata": {
    "colab": {
      "name": "Exercicis_Cadenes.ipynb",
      "provenance": [],
      "collapsed_sections": []
    },
    "kernelspec": {
      "name": "python3",
      "display_name": "Python 3"
    }
  },
  "cells": [
    {
      "cell_type": "markdown",
      "metadata": {
        "id": "Ee-GnOxCExTk"
      },
      "source": [
        "Exercici 1: Tallar cadena\n",
        "\n",
        "Escriu una funció que donats una cadena i un nombre  𝑛<<𝑙𝑒𝑛(𝑐𝑎𝑑𝑒𝑛𝑎) , elimini els primers n caràcters i els darrers n caràcters de la cadena."
      ]
    },
    {
      "cell_type": "code",
      "metadata": {
        "id": "Es_XeSgNEqGj",
        "outputId": "797297d9-fdbf-4023-cdad-b4cf18be71cd",
        "colab": {
          "base_uri": "https://localhost:8080/",
          "height": 37
        }
      },
      "source": [
        "def tallar(cadena, n):\n",
        "  return cadena[n:len(cadena) - n]\n",
        "\n",
        "tallar(\"34739394848\", 4)\n"
      ],
      "execution_count": 1,
      "outputs": [
        {
          "output_type": "execute_result",
          "data": {
            "application/vnd.google.colaboratory.intrinsic+json": {
              "type": "string"
            },
            "text/plain": [
              "'939'"
            ]
          },
          "metadata": {
            "tags": []
          },
          "execution_count": 1
        }
      ]
    },
    {
      "cell_type": "markdown",
      "metadata": {
        "id": "kHZ4eqgsE1iw"
      },
      "source": [
        "Exercici 2: Slicing i conversió\n",
        "\n",
        "Imagina que tens la següent cadena:\n",
        "\n",
        "text = 'X-DSPAM-Confidence:0.8475'\n",
        "\n",
        "Retalla-la pels dos punts amb split, agafa la darrera part i usa la funció float() per convertir la segona part en un nombre decimal."
      ]
    },
    {
      "cell_type": "code",
      "metadata": {
        "id": "3d_a1QReE196",
        "outputId": "ad257c08-3cea-4ec4-dadd-eafffdfcd581",
        "colab": {
          "base_uri": "https://localhost:8080/",
          "height": 34
        }
      },
      "source": [
        "text = 'X-DSPAM-Confidence:0.8475'\n",
        "numero = text.split(':')\n",
        "f = float(numero[1])\n",
        "print (f, type(f))"
      ],
      "execution_count": 8,
      "outputs": [
        {
          "output_type": "stream",
          "text": [
            "0.8475 <class 'float'>\n"
          ],
          "name": "stdout"
        }
      ]
    }
  ]
}