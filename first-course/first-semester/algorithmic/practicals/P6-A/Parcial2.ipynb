{
  "nbformat": 4,
  "nbformat_minor": 0,
  "metadata": {
    "colab": {
      "name": "ExALG_Noah_Marquez.ipynb",
      "provenance": [],
      "collapsed_sections": []
    },
    "kernelspec": {
      "name": "python3",
      "display_name": "Python 3"
    }
  },
  "cells": [
    {
      "cell_type": "markdown",
      "metadata": {
        "id": "YYd-RInUv6P2"
      },
      "source": [
        "# Instruccions\n",
        "\n",
        "Contesta l'examen sense fer servir cap cel·la de codi, com si féssis l'examen en paper i llapis, als llocs indicats."
      ]
    },
    {
      "cell_type": "markdown",
      "metadata": {
        "id": "qobTXs9tvoPs"
      },
      "source": [
        "## Exercici 1 \n",
        "\n",
        "Diem que dos nombres són amics si els divisors d'un, sumats, són igual a l'altre i viceversa. Suposem que aquest algorisme calcula si dos nombres són\n",
        "amics. Completa la funció amb les línies de codi que consideris necessàries en el lloc indicat:\n",
        "\n",
        "```python\n",
        "def amics(num1, num2):\n",
        "    def suma_divisors(num): suma = 0\n",
        "        for div in range(1,num):\n",
        "            # aquí falta codi\n",
        "        return suma\n",
        "    suma1 = suma_divisors(num1) suma2 = suma_divisors(num2)\n",
        "    return (suma2 == num1) and (suma1 == num2)\n",
        "````\n",
        "\n",
        "### Resposta:\n",
        "\n",
        "El codi que posaria és:\n",
        "\n",
        "```python\n",
        "if num%div == 0:\n",
        "  suma += div\n",
        "````"
      ]
    },
    {
      "cell_type": "markdown",
      "metadata": {
        "id": "D4lByEfcw0aW"
      },
      "source": [
        "## Exercici 2\n",
        "\n",
        "Quina és la complexitat en notació Gran O d'aquest algorisme si `X` i `Y` són dues matrius quadrades de `n` per `n` elements, que són nombres \"petits\"?\n",
        "\n",
        "```python\n",
        "for i in range(len(X)):\n",
        "    for j in range(len(Y[0])):\n",
        "        for k in range(len(Y)):\n",
        "            result[i][j] += X[i][k] * Y[k][j]\n",
        "``` \n",
        "\n",
        "### Resposta:\n",
        "\n",
        "La complexitat d'aquest algorisme és: O(n^3) ja que estem realitzant tres bucles iteratius for, cada un amb cost n, i si multipliquem nombres 'petits' té cost 1. Llavors ens quedaria O(n^3) = O(n * n * n * 1)"
      ]
    },
    {
      "cell_type": "markdown",
      "metadata": {
        "id": "MPmPvg13xUbq"
      },
      "source": [
        "## Exercici 3\n",
        "\n",
        "Si un algorisme A té una complexitat $n^2$ i un algorisme B una complexitat\n",
        "$0.01 * n^3$, quins dels dos faries servir per solucionar un problema de mida\n",
        "`n=95`?\n",
        "\n",
        "### Resposta:\n",
        "\n",
        "L'algorisme que faria servir és: en aquest cas com n=95 l'algorisme B de 0.01 * n^3 es lleugerament més efectiu que l'algorisme A amb n^2. Per tant faria servir l'algorisme B. Si no sapiguesim n, llavors seria més efectiu l'algorisme A."
      ]
    },
    {
      "cell_type": "markdown",
      "metadata": {
        "id": "Dvxsh4gfx2Rs"
      },
      "source": [
        "## Exercici 4\n",
        "\n",
        "Perquè diem que no és possible trobar la ruta més curta que passa per 100\n",
        "ciutats (algorisme del viatjant de comerç) de forma exacta? Contesta-ho de la manera més formal i precisa que\n",
        "puguis.\n",
        "\n",
        "### Resposta:\n",
        "\n",
        "Si la ruta ha de passar per 100 ciutats, el nombre d'ordenacions que hauriem de comprovar ve donat pel concepte de factorial perquè ha de comprovar totes les possibilitats, per tant, el factorial d'un nombre n (100 en aquest cas) creix molt ràpidament. Cap ordenador en el món seria capaç de realitzar aquesta operació.\n"
      ]
    },
    {
      "cell_type": "markdown",
      "metadata": {
        "id": "_rYDXtvPyRgp"
      },
      "source": [
        "## Exercici 5\n",
        "\n",
        "El següent programa imprimeix els elements d'una llista (`my_list`) que no formen part d'una segona llista (`temps_list`). Quina complexitat té aquest algorisme si les llistes tenen `n` elements cada una? \n",
        "\n",
        "```python\n",
        "my_list = [1, 2, 3, 1, 2, 4, 5, 4 ,6, 2]\n",
        "temp_list = [1, 2, 56, 65, 456, 7, 4566, 56456456, 435]\n",
        "new_list = []\n",
        "for i in my_list:\n",
        "    if i not in temp_list:\n",
        "        new_list.append(i)\n",
        "print(new_list)\n",
        "```\n",
        "\n",
        "### Resposta:\n",
        "\n",
        "La complexitat d'aquest algorisme és 0(n^2) ja que l'if té cost 1, però fer un 'in list' té cost n, i l'append té cost 1. Llavors tenim n (complexitat del if) * n (nombre de vegades que itrerem).\n",
        "\n"
      ]
    }
  ]
}